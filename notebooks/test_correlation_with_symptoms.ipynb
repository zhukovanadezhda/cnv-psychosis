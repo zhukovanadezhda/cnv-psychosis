{
 "cells": [
  {
   "cell_type": "markdown",
   "metadata": {},
   "source": [
    "# Correlation of CNV parameters with symptoms\n",
    "\n",
    "The correlation between various CNV metrics and clinical scales was examined using the Spearman correlation coefficient. This method was chosen because some variables, such as the YMRS, are not normally distributed. A correlation matrix was generated using Python code to identify potential relationships between CNV metrics and clinical symptoms.\n"
   ]
  },
  {
   "cell_type": "code",
   "execution_count": null,
   "metadata": {},
   "outputs": [],
   "source": [
    "# Import libraries\n",
    "import matplotlib.pyplot as plt\n",
    "import numpy as np\n",
    "import pandas as pd\n",
    "from scipy.stats import spearmanr\n",
    "import seaborn as sns\n",
    "from statsmodels.stats.multitest import multipletests\n",
    "\n",
    "# set seaborn style\n",
    "sns.set_style('whitegrid')"
   ]
  },
  {
   "cell_type": "code",
   "execution_count": null,
   "metadata": {},
   "outputs": [],
   "source": [
    "# Load data\n",
    "df = pd.read_csv('../results/uncertain_merged_all_cnv_annotations_filtered_per_ind_with_clinical.csv')\n",
    "\n",
    "# Remove outliers with ID S36958 and S36981\n",
    "df = df[df['ID'] != 'S36958']\n",
    "df = df[df['ID'] != 'S36981']\n",
    "\n",
    "# Set inf values to 0 \n",
    "inf_mask = np.isinf(df[['Avg_copy_number_DEL']])\n",
    "df.loc[inf_mask['Avg_copy_number_DEL'], 'Avg_copy_number_DEL'] = 0"
   ]
  },
  {
   "cell_type": "code",
   "execution_count": null,
   "metadata": {},
   "outputs": [],
   "source": [
    "# Define constants\n",
    "GENETICS = [\n",
    "    'NB_rare_DEL', 'NB_rare_DUP', \n",
    "    'Avg_copy_number_DEL', 'Avg_copy_number_DUP', \n",
    "    'Rare_length_DEL', 'Rare_length_DUP', \n",
    "    'NB_genes_rare_DEL', 'NB_genes_rare_DUP',\n",
    "    'NB_brain_genes_rare_DEL', 'NB_brain_genes_rare_DUP', \n",
    "    'NB_brain_rare_DEL', 'NB_brain_rare_DUP', \n",
    "    'Brain_rare_length_DEL', 'Brain_rare_length_DUP',\n",
    "    'NB_long_rare_DEL', 'NB_long_rare_DUP', \n",
    "    'Long_rare_length_DEL', 'Long_rare_length_DUP', \n",
    "    'NB_long_brain_rare_DEL', 'NB_long_brain_rare_DUP',\n",
    "    'Long_brain_rare_length_DEL', 'Long_brain_rare_length_DUP'\n",
    "]\n",
    "CLINICS = ['IQ', 'PANSS', 'BPRS', 'SOFAS', 'SAPS', 'SANS', 'YMRS', 'MADRS']\n",
    "\n",
    "# Initialize matrices\n",
    "correlation_matrix = np.zeros((len(GENETICS), len(CLINICS)))\n",
    "p_values_matrix = np.zeros((len(GENETICS), len(CLINICS)))\n",
    "\n",
    "# Calculate correlations\n",
    "for i, col1 in enumerate(GENETICS):\n",
    "    for j, col2 in enumerate(CLINICS):\n",
    "        # Use .loc to access the specific columns\n",
    "        corr, p_value = spearmanr(df[col1], df[col2], nan_policy='omit')\n",
    "        correlation_matrix[i, j] = corr\n",
    "        p_values_matrix[i, j] = p_value\n",
    "\n",
    "# FDR Correction\n",
    "p_values_flat = p_values_matrix.flatten()\n",
    "reject, p_values_corrected, _, _ = multipletests(p_values_flat, \n",
    "                                                 method='fdr_bh')\n",
    "p_values_corrected_matrix = p_values_corrected.reshape(len(GENETICS), \n",
    "                                                       len(CLINICS))\n",
    "\n",
    "# Create DataFrames for visualization\n",
    "p_values_corrected_df = pd.DataFrame(p_values_corrected_matrix, \n",
    "                                     index=GENETICS, columns=CLINICS)\n",
    "correlation_df = pd.DataFrame(correlation_matrix, \n",
    "                              index=GENETICS, columns=CLINICS)\n",
    "\n",
    "# Mask for significant values\n",
    "significant_mask = p_values_corrected_df < 0.05\n",
    "correlation_df_significant = correlation_df.where(significant_mask)\n",
    "\n",
    "# Plot heatmap\n",
    "plt.figure(figsize=(10, 8))\n",
    "sns.heatmap(p_values_corrected_df, \n",
    "            annot=correlation_df, \n",
    "            fmt=\".2f\", \n",
    "            cmap='Blues_r', \n",
    "            center=0, \n",
    "            cbar_kws={'label': 'Corrected P-value'}, \n",
    "            mask=np.isnan(p_values_corrected_df))\n",
    "plt.xticks(rotation=60)\n",
    "plt.title('Spearman Correlations (FDR corrected)')\n",
    "\n",
    "# Highlight significant cells\n",
    "for i in range(len(GENETICS)):\n",
    "    for j in range(len(CLINICS)):\n",
    "        if significant_mask.iloc[i, j]:\n",
    "            plt.gca().add_patch(plt.Rectangle((j, i), 1, 1, \n",
    "                                              fill=False, \n",
    "                                              edgecolor='#155289', \n",
    "                                              lw=2))\n",
    "plt.savefig(\"../graphs/correlation.png\")\n",
    "plt.show()\n"
   ]
  },
  {
   "cell_type": "markdown",
   "metadata": {},
   "source": [
    "After excluding outliers, pathogenic or likely pathogenic CNVs, and Marshall’s CNVs, no significant correlation was observed. This finding aligns with the group comparison results, which also showed no significant differences. Therefore, the previously defined CNV parameters do not appear to correlate with the clinical symptoms that define phenotypes.\n"
   ]
  }
 ],
 "metadata": {
  "kernelspec": {
   "display_name": "everything",
   "language": "python",
   "name": "python3"
  },
  "language_info": {
   "codemirror_mode": {
    "name": "ipython",
    "version": 3
   },
   "file_extension": ".py",
   "mimetype": "text/x-python",
   "name": "python",
   "nbconvert_exporter": "python",
   "pygments_lexer": "ipython3",
   "version": "3.11.5"
  }
 },
 "nbformat": 4,
 "nbformat_minor": 2
}
